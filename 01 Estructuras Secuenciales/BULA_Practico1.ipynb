{
  "nbformat": 4,
  "nbformat_minor": 0,
  "metadata": {
    "colab": {
      "provenance": []
    },
    "kernelspec": {
      "name": "python3",
      "display_name": "Python 3"
    },
    "language_info": {
      "name": "python"
    }
  },
  "cells": [
    {
      "cell_type": "markdown",
      "source": [
        "# Actividades\n",
        "## 1) Crear un programa que imprima por pantalla el mensaje: “Hola Mundo!”."
      ],
      "metadata": {
        "id": "iSZzbu9LTPjV"
      }
    },
    {
      "cell_type": "code",
      "execution_count": null,
      "metadata": {
        "colab": {
          "base_uri": "https://localhost:8080/"
        },
        "id": "5Gz0vu9PTF7r",
        "outputId": "4ac4aacc-4e9d-400b-a5ab-e3affa7901fb"
      },
      "outputs": [
        {
          "output_type": "stream",
          "name": "stdout",
          "text": [
            "Hola Mundo!\n"
          ]
        }
      ],
      "source": [
        "print(\"Hola Mundo!\")"
      ]
    },
    {
      "cell_type": "markdown",
      "source": [
        "\n",
        "## 2) Crear un programa que pida al usuario su nombre e imprima por pantalla un saludo usando el nombre ingresado. Por ejemplo: si el usuario ingresa “Marcos”, el programa debe imprimir por pantalla “Hola Marcos!”. Consejo: esto será más sencillo si utilizas print(f...) para realizar la impresión por pantalla.\n"
      ],
      "metadata": {
        "id": "z_I9aPaPTOS1"
      }
    },
    {
      "cell_type": "code",
      "source": [
        "nombre = input(\"Ingrese su nombre: \")\n",
        "print(f\"Hola {nombre}!\")"
      ],
      "metadata": {
        "colab": {
          "base_uri": "https://localhost:8080/"
        },
        "id": "GhuU1b4DTNjR",
        "outputId": "bdeb7dd8-4b8d-48a3-e484-227e024a795d"
      },
      "execution_count": null,
      "outputs": [
        {
          "output_type": "stream",
          "name": "stdout",
          "text": [
            "Ingrese su nombre: h\n",
            "Hola h!\n"
          ]
        }
      ]
    },
    {
      "cell_type": "markdown",
      "source": [
        "## 3) Crear un programa que pida al usuario su nombre, apellido, edad y lugar de residencia e imprima por pantalla una oración con los datos ingresados. Por ejemplo: si el usuario ingresa “Marcos”, “Pérez”, “30” y “Argentina”, el programa debe imprimir “Soy Marcos Pérez, tengo 30 años y vivo en Argentina”. Consejo: esto será más sencillo si utilizas print(f...) para realizar la impresión por pantalla."
      ],
      "metadata": {
        "id": "g8zApqW0Tsd5"
      }
    },
    {
      "cell_type": "code",
      "source": [
        "nombre = input(\"Ingrese su nombre: \")\n",
        "apellido = input(\"Ingrese su apellido: \")\n",
        "edad = input(\"Ingrese su edad: \")\n",
        "residencia = input(\"Ingrese su lugar de residencia: \")\n",
        "print(f\"Soy {nombre} {apellido}, tengo {edad} años y vivo en {residencia}\")"
      ],
      "metadata": {
        "colab": {
          "base_uri": "https://localhost:8080/"
        },
        "id": "GExppGd3T2VV",
        "outputId": "555721ad-d371-47e6-8cce-52a804d6bd43"
      },
      "execution_count": null,
      "outputs": [
        {
          "output_type": "stream",
          "name": "stdout",
          "text": [
            "Ingrese su nombre: h\n",
            "Ingrese su apellido: b\n",
            "Ingrese su edad: 41\n",
            "Ingrese su lugar de residencia: cba\n",
            "Soy h b, tengo 41 años y vivo en cba\n"
          ]
        }
      ]
    },
    {
      "cell_type": "markdown",
      "source": [
        "## 4) Crear un programa que pida al usuario el radio de un círculo e imprima por pantalla su área su perímetro."
      ],
      "metadata": {
        "id": "KoeH8JZ6UAPs"
      }
    },
    {
      "cell_type": "code",
      "source": [
        "radio = int(input(\"Ingrese el radio del círculo para calcular su área y perímetro:\"))\n",
        "pi = 3.14159\n",
        "area = pi * radio * radio\n",
        "perimetro = pi * radio * 2\n",
        "print(f\"Un círculo de un radio de {radio}, tiene un área de {area} y un perimetro de {perimetro}\")"
      ],
      "metadata": {
        "colab": {
          "base_uri": "https://localhost:8080/"
        },
        "id": "wkIBw3raUFdH",
        "outputId": "5c0993c6-7b78-4319-a7cf-a7b547640a08"
      },
      "execution_count": null,
      "outputs": [
        {
          "output_type": "stream",
          "name": "stdout",
          "text": [
            "Ingrese el radio del círculo para calcular su área y perímetro:3\n",
            "Un círculo de un radio de 3, tiene un área de 28.274309999999996 y un perimetro de 18.849539999999998\n"
          ]
        }
      ]
    },
    {
      "cell_type": "markdown",
      "source": [
        "## 5) Crear un programa que pida al usuario una cantidad de segundos e imprima por pantalla a cuántas horas equivale."
      ],
      "metadata": {
        "id": "cmvzBI9SUH4g"
      }
    },
    {
      "cell_type": "code",
      "source": [
        "segundos = int(input(\"Ingrese los segundos para calcular a cuantas horas equivale: \"))\n",
        "horas = (segundos / 60) / 60 # 1 hora = 60 minutos = 3600 segundos\n",
        "print(f\"{segundos} segundos corresponde a {horas} horas\")\n",
        "seg = segundos % 60\n",
        "minutos = (segundos // 60) % 60\n",
        "horas = round((segundos / 60) // 60)\n",
        "print(f\"Lo cual corresponde a {horas} horas, {minutos} minutos y {seg} segundos\")"
      ],
      "metadata": {
        "colab": {
          "base_uri": "https://localhost:8080/"
        },
        "id": "ftB1giEtUMOE",
        "outputId": "22a19898-be69-4fea-9ab8-b03ce8bb5265"
      },
      "execution_count": null,
      "outputs": [
        {
          "output_type": "stream",
          "name": "stdout",
          "text": [
            "Ingrese los segundos para calcular a cuantas horas equivale: 50000\n",
            "50000 segundos corresponde a 13.88888888888889 horas\n",
            "Lo cual corresponde a 13 horas, 53 minutos y 20 segundos\n"
          ]
        }
      ]
    },
    {
      "cell_type": "code",
      "source": [
        "# Opcion B del código más limpio y simple\n",
        "segundos = int(input(\"Ingrese los segundos para calcular a cuántas horas equivale: \"))\n",
        "\n",
        "horas = segundos // 3600  # 1 hora = 3600 segundos\n",
        "minutos = (segundos % 3600) // 60  # Restamos las horas y calculamos los minutos\n",
        "seg = segundos % 60  # Los segundos restantes\n",
        "\n",
        "print(f\"{segundos} segundos equivalen a:\")\n",
        "print(f\"{horas} horas, {minutos} minutos y {seg} segundos\")"
      ],
      "metadata": {
        "colab": {
          "base_uri": "https://localhost:8080/"
        },
        "id": "TOdCEJAiXYoQ",
        "outputId": "634bec60-678c-4a13-aef9-c559151843a0"
      },
      "execution_count": null,
      "outputs": [
        {
          "output_type": "stream",
          "name": "stdout",
          "text": [
            "Ingrese los segundos para calcular a cuántas horas equivale: 50000\n",
            "50000 segundos equivalen a:\n",
            "13 horas, 53 minutos y 20 segundos\n"
          ]
        }
      ]
    },
    {
      "cell_type": "markdown",
      "source": [
        "## 6) Crear un programa que pida al usuario un número e imprima por pantalla la tabla de multiplicar de dicho número."
      ],
      "metadata": {
        "id": "sUJ4ePi3UMmc"
      }
    },
    {
      "cell_type": "code",
      "source": [
        "numero = int(input(\"Ingrese un número para saber la tabla de multiplicar: \"))\n",
        "for i in range(0, 11):\n",
        "    producto = numero*i\n",
        "    print(f\"{numero} x {i} = {producto}\")"
      ],
      "metadata": {
        "colab": {
          "base_uri": "https://localhost:8080/"
        },
        "id": "IPiOUvMNUeLF",
        "outputId": "669bfc0e-83e5-49c1-9a0a-020445d5d0f8"
      },
      "execution_count": null,
      "outputs": [
        {
          "output_type": "stream",
          "name": "stdout",
          "text": [
            "Ingrese un número para saber la tabla de multiplicar: 5\n",
            "5 x 0 = 0\n",
            "5 x 1 = 5\n",
            "5 x 2 = 10\n",
            "5 x 3 = 15\n",
            "5 x 4 = 20\n",
            "5 x 5 = 25\n",
            "5 x 6 = 30\n",
            "5 x 7 = 35\n",
            "5 x 8 = 40\n",
            "5 x 9 = 45\n",
            "5 x 10 = 50\n"
          ]
        }
      ]
    },
    {
      "cell_type": "markdown",
      "source": [
        "## 7) Crear un programa que pida al usuario dos números enteros distintos del 0 y muestre por pantalla el resultado de sumarlos, dividirlos, multiplicarlos y restarlos."
      ],
      "metadata": {
        "id": "hNKS8GuuUgjv"
      }
    },
    {
      "cell_type": "code",
      "source": [
        "num1 = int(input(\"Ingrese un número entero que no sea 0: \"))\n",
        "num2 = int(input(\"Ingrese otro número entero que no sea 0: \"))\n",
        "suma = num1+num2\n",
        "division = num1/num2\n",
        "producto = num1*num2\n",
        "resta = num1-num2\n",
        "print(f\"el resultado de sumar ambos números es {suma}, de dividirlos {division}, de multiplicarlos {producto} y de restarlos {resta}.\")"
      ],
      "metadata": {
        "colab": {
          "base_uri": "https://localhost:8080/"
        },
        "id": "TD0u8phwUjrv",
        "outputId": "e1c0a586-3f8b-4719-a38c-bd2e544a6d19"
      },
      "execution_count": null,
      "outputs": [
        {
          "output_type": "stream",
          "name": "stdout",
          "text": [
            "Ingrese un número entero que no sea 0: 5\n",
            "Ingrese otro número entero que no sea 0: 4\n",
            "el resultado de sumar ambos números es 9, de dividirlos 1.25, de multiplicarlos 20 y de restarlos 1.\n"
          ]
        }
      ]
    },
    {
      "cell_type": "markdown",
      "source": [
        "## 8) Crear un programa que pida al usuario su altura y su peso e imprima por pantalla su índice de masa corporal. Tener en cuenta que el índice de masa corporal se calcula del siguiente modo:\n",
        "IMC = peso en kg / (altura en m)²\n"
      ],
      "metadata": {
        "id": "2Vxbgdy0Ulcf"
      }
    },
    {
      "cell_type": "code",
      "source": [
        "altura = float(input(\"Ingrese su altura en mts: \"))\n",
        "peso = float(input(\"Ingrese su peso en kgs: \"))\n",
        "imc = peso / (altura)**2\n",
        "print(f\"Su índice de masa corporal es {imc}\")"
      ],
      "metadata": {
        "colab": {
          "base_uri": "https://localhost:8080/"
        },
        "id": "HOBHyEtqUpSO",
        "outputId": "462c6a62-dc82-4a5e-b96e-e3ca22e4af25"
      },
      "execution_count": null,
      "outputs": [
        {
          "output_type": "stream",
          "name": "stdout",
          "text": [
            "Ingrese su altura en mts: 1.75\n",
            "Ingrese su peso en kgs: 80\n",
            "Su índice de masa corporal es 26.122448979591837\n"
          ]
        }
      ]
    },
    {
      "cell_type": "markdown",
      "source": [
        "## 9) Crear un programa que pida al usuario una temperatura en grados Celsius e imprima por pantalla su equivalente en grados Fahrenheit. Tener en cuenta la siguiente equivalencia:\n",
        "Temperatura en Fahrenheit = 9/5 * Temperatura en Celsius + 32"
      ],
      "metadata": {
        "id": "rIDjqh5oUq6O"
      }
    },
    {
      "cell_type": "code",
      "source": [
        "celsius = float(input(\"Ingrese la temperatura en grados celsius: \"))\n",
        "fahrenheit = 9/5 * celsius + 32\n",
        "print(f\"{celsius} grados Celsius equivalen a {fahrenheit} grados Fahrenheit\")"
      ],
      "metadata": {
        "colab": {
          "base_uri": "https://localhost:8080/"
        },
        "id": "ZNnPsM21UtiM",
        "outputId": "eebf74f3-cf7b-4ad2-edd2-d0353c83fc81"
      },
      "execution_count": null,
      "outputs": [
        {
          "output_type": "stream",
          "name": "stdout",
          "text": [
            "Ingrese la temperatura en grados celsius: 40\n",
            "40.0 grados Celsius equivalen a 104.0 grados Fahrenheit\n"
          ]
        }
      ]
    },
    {
      "cell_type": "markdown",
      "source": [
        "\n",
        "## 10) Crear un programa que pida al usuario 3 números e imprima por pantalla el promedio de dichos números."
      ],
      "metadata": {
        "id": "dS-qirwFUvP9"
      }
    },
    {
      "cell_type": "code",
      "source": [
        "num1 = float(input(\"Ingrese un número: \"))\n",
        "num2 = float(input(\"Ingrese otro número: \"))\n",
        "num3 = float(input(\"Ingrese un tercer número: \"))\n",
        "promedio = (num1+num2+num3) / 3\n",
        "print(f\"El promedio de los tres números ingresados es {promedio}\")"
      ],
      "metadata": {
        "colab": {
          "base_uri": "https://localhost:8080/"
        },
        "id": "cJKGZlb8Ux6l",
        "outputId": "32ad6d53-44ba-4fef-d1ef-3abae5d64ac2"
      },
      "execution_count": null,
      "outputs": [
        {
          "output_type": "stream",
          "name": "stdout",
          "text": [
            "Ingrese un número: 3\n",
            "Ingrese otro número: 4\n",
            "Ingrese un tercer número: 5\n",
            "El promedio de los tres números ingresados es 4.0\n"
          ]
        }
      ]
    }
  ]
}